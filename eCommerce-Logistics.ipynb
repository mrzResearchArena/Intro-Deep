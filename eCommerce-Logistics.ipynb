{
 "cells": [
  {
   "cell_type": "markdown",
   "metadata": {},
   "source": [
    "### Generate Dataset using normal-distribution"
   ]
  },
  {
   "cell_type": "code",
   "execution_count": 1,
   "metadata": {},
   "outputs": [],
   "source": [
    "# Base Imports\n",
    "import numpy as np\n",
    "import pandas as pd\n",
    "import matplotlib.pyplot as plt\n",
    "from sklearn.utils import shuffle"
   ]
  },
  {
   "cell_type": "code",
   "execution_count": 5,
   "metadata": {},
   "outputs": [],
   "source": [
    "def getData():\n",
    "    df = pd.read_csv('/home/mrz/MyDrive/Education/Deep-Learning/Codes/LogisticRegression/data.csv')\n",
    "\n",
    "    # just in case you're curious what's in it\n",
    "    # df.head()\n",
    "\n",
    "    # easier to work with numpy array\n",
    "    data = df.values\n",
    "\n",
    "    # shuffle it\n",
    "    np.random.shuffle(data)\n",
    "\n",
    "    # split features and labels\n",
    "    X = data[:,:-1]\n",
    "    Y = data[:,-1].astype(np.int32)\n",
    "\n",
    "    # one-hot encode the categorical data\n",
    "    # create a new matrix X2 with the correct number of columns\n",
    "    N, D = X.shape\n",
    "    X2 = np.zeros((N, D+3))\n",
    "    X2[:,0:(D-1)] = X[:,0:(D-1)] # non-categorical\n",
    "\n",
    "    # one-hot\n",
    "    for n in range(N):\n",
    "        t = int(X[n,D-1])\n",
    "        X2[n,t+D-1] = 1\n",
    "\n",
    "    # method 2\n",
    "    # Z = np.zeros((N, 4))\n",
    "    # Z[np.arange(N), X[:,D-1].astype(np.int32)] = 1\n",
    "    # # assign: X2[:,-4:] = Z\n",
    "    # assert(np.abs(X2[:,-4:] - Z).sum() < 1e-10)\n",
    "\n",
    "    # assign X2 back to X, since we don't need original anymore\n",
    "    X = X2\n",
    "\n",
    "    # split train and test\n",
    "    Xtrain = X[:-100]\n",
    "    Ytrain = Y[:-100]\n",
    "    Xtest = X[-100:]\n",
    "    Ytest = Y[-100:]\n",
    "\n",
    "  # normalize columns 1 and 2\n",
    "    for i in (1, 2):\n",
    "        m = Xtrain[:,i].mean()\n",
    "        s = Xtrain[:,i].std()\n",
    "        Xtrain[:,i] = (Xtrain[:,i] - m) / s\n",
    "        Xtest[:,i] = (Xtest[:,i] - m) / s\n",
    "\n",
    "    return Xtrain, Ytrain, Xtest, Ytest"
   ]
  },
  {
   "cell_type": "code",
   "execution_count": 33,
   "metadata": {},
   "outputs": [],
   "source": [
    "def oneZeroEncoding(y):\n",
    "    N = len(y)\n",
    "    K = len(set(y))\n",
    "    \n",
    "    index = np.zeros(shape=(N, K), dtype=int)\n",
    "    \n",
    "    for i, value in enumerate(y):\n",
    "        index[i, value] = 1\n",
    "        \n",
    "    return index\n",
    "\n",
    "def cost(Y, Yp):\n",
    "    return -(Y * np.log(Yp)).sum()\n",
    "\n",
    "def softmax(A):\n",
    "    expA = np.exp(A)\n",
    "    return expA / expA.sum(axis=1, keepdims=True)\n",
    "\n",
    "def accuracy(Y, Yp):\n",
    "    return 1.0 - errorRate(Y, Yp)\n",
    "\n",
    "def errorRate(Y, Yp):\n",
    "    return np.mean(Y != Yp)\n",
    "\n",
    "def forward(X, W, b):\n",
    "    return softmax(X.dot(W) + b)\n",
    "\n",
    "def predict(P_Y_given_X):\n",
    "    return np.argmax(P_Y_given_X, axis=1)"
   ]
  },
  {
   "cell_type": "code",
   "execution_count": 34,
   "metadata": {},
   "outputs": [],
   "source": [
    "Xtrain, Ytrain, Xtest, Ytest = getData()\n",
    "\n",
    "D = Xtrain.shape[1]\n",
    "K = len(set(Ytrain))\n",
    "# convert to indicator\n",
    "Ytrain_ind = oneZeroEncoding(Ytrain)\n",
    "Ytest_ind = oneZeroEncoding(Ytest)\n",
    "\n",
    "# randomly initialize weights\n",
    "W = np.random.randn(D, K)\n",
    "b = np.zeros(K)"
   ]
  },
  {
   "cell_type": "code",
   "execution_count": 35,
   "metadata": {},
   "outputs": [
    {
     "name": "stdout",
     "output_type": "stream",
     "text": [
      "0 1026.1625696280296 247.95503282348005\n",
      "1000 135.17865081698972 41.521833266789585\n",
      "2000 127.77424194873005 40.69504836233622\n",
      "3000 124.95787385057956 40.641537446348934\n",
      "4000 123.51592982619336 40.73998133752226\n",
      "5000 122.65999322158805 40.86782709226584\n",
      "6000 122.10400133681648 40.99336161088701\n",
      "7000 121.72014908123897 41.10815408965302\n",
      "8000 121.44320798769573 41.21072639810422\n",
      "9000 121.23662816412494 41.3017565886066\n",
      "Final train classification_rate: 0.9225\n",
      "Final test classification_rate: 0.89\n"
     ]
    },
    {
     "data": {
      "image/png": "[encoded data removed]",
      "text/plain": [
       "<Figure size 432x288 with 1 Axes>"
      ]
     },
     "metadata": {
      "needs_background": "light"
     },
     "output_type": "display_data"
    }
   ],
   "source": [
    "# train loop\n",
    "train_costs = []\n",
    "test_costs = []\n",
    "learning_rate = 0.001\n",
    "for i in range(10000):\n",
    "    pYtrain = forward(Xtrain, W, b)\n",
    "    pYtest = forward(Xtest, W, b)\n",
    "\n",
    "    ctrain = cost(Ytrain_ind, pYtrain)\n",
    "    ctest = cost(Ytest_ind, pYtest)\n",
    "    train_costs.append(ctrain)\n",
    "    test_costs.append(ctest)\n",
    "\n",
    "    # gradient descent\n",
    "    W -= learning_rate*Xtrain.T.dot(pYtrain - Ytrain_ind)\n",
    "    b -= learning_rate*(pYtrain - Ytrain_ind).sum(axis=0)\n",
    "    if i % 1000 == 0:\n",
    "        print(i, ctrain, ctest)\n",
    "\n",
    "print(\"Final train classification_rate:\", accuracy(Ytrain, predict(pYtrain)))\n",
    "print(\"Final test classification_rate:\", accuracy(Ytest, predict(pYtest)))\n",
    "\n",
    "plt.plot(train_costs, label='train cost')\n",
    "plt.plot(test_costs, label='test cost')\n",
    "plt.legend()\n",
    "plt.show()"
   ]
  },
  {
   "cell_type": "code",
   "execution_count": null,
   "metadata": {},
   "outputs": [],
   "source": []
  }
 ],
 "metadata": {
  "kernelspec": {
   "display_name": "Python 3",
   "language": "python",
   "name": "python3"
  },
  "language_info": {
   "codemirror_mode": {
    "name": "ipython",
    "version": 3
   },
   "file_extension": ".py",
   "mimetype": "text/x-python",
   "name": "python",
   "nbconvert_exporter": "python",
   "pygments_lexer": "ipython3",
   "version": "3.6.8"
  }
 },
 "nbformat": 4,
 "nbformat_minor": 2
}
